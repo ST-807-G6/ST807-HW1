{
 "cells": [
  {
   "cell_type": "markdown",
   "metadata": {},
   "source": [
    "\n",
    "# PA ST 807: Convolutional Neural Network\n",
    "## Homework 1: Artificial Neural Networks, Model Interpretation, and Regularization\n",
    "\n",
    "**GEC**<br/>\n",
    "**Instructor**: Pavlos Protopapas<br />\n",
    "**Maximum Score**: 100\n",
    "\n",
    "<hr style=\"height:2.4pt\">"
   ]
  },
  {
   "cell_type": "code",
   "execution_count": 1,
   "metadata": {
    "scrolled": true
   },
   "outputs": [],
   "source": [
    "#RUN THIS CELL \n",
    "import requests\n",
    "from IPython.core.display import HTML"
   ]
  },
  {
   "cell_type": "code",
   "execution_count": 2,
   "metadata": {},
   "outputs": [],
   "source": [
    "import random\n",
    "random.seed(112358)\n",
    "\n",
    "import os\n",
    "import sys\n",
    "\n",
    "import matplotlib.pyplot as plt\n",
    "import numpy as np\n",
    "import pandas as pd\n",
    "import seaborn as sns\n",
    "\n",
    "from sklearn.inspection import permutation_importance\n",
    "from sklearn.linear_model import LogisticRegression\n",
    "from sklearn.metrics import roc_auc_score, accuracy_score\n",
    "from sklearn.model_selection import train_test_split\n",
    "from sklearn.preprocessing import StandardScaler\n",
    "from sklearn.utils import resample\n",
    "\n",
    "# TensorFlow and tf.keras\n",
    "import tensorflow as tf\n",
    "\n",
    "%matplotlib inline"
   ]
  },
  {
   "cell_type": "markdown",
   "metadata": {},
   "source": [
    "### INSTRUCTIONS\n",
    "\n",
    "\n",
    "- This homework is a jupyter notebook. Download and work on it on your local machine.\n",
    "\n",
    "- This homework should be submitted in pairs.\n",
    "\n",
    "- Ensure you and your partner together have submitted the homework only once. Multiple submissions of the same work will be penalised and will cost you 2 points.\n",
    "\n",
    "- Please restart the kernel and run the entire notebook again before you submit.\n",
    "\n",
    "- Running cells out of order is a common pitfall in Jupyter Notebooks. To make sure your code works restart the kernel and run the whole notebook again before you submit. \n",
    "\n",
    "- To submit the homework, either one of you upload the working notebook on edStem and click the submit button on the bottom right corner.\n",
    "\n",
    "- Submit the homework well before the given deadline. Submissions after the deadline will not be graded.\n",
    "\n",
    "- We have tried to include all the libraries you may need to do the assignment in the imports statement at the top of this notebook. We strongly suggest that you use those and not others as we may not be familiar with them.\n",
    "\n",
    "- Comment your code well. This would help the graders in case there is any issue with the notebook while running. It is important to remember that the graders will not troubleshoot your code. \n",
    "\n",
    "- Please use .head() when viewing data. Do not submit a notebook that is **excessively long**. \n",
    "\n",
    "- In questions that require code to answer, such as \"calculate the $R^2$\", do not just output the value from a cell. Write a `print()` function that includes a reference to the calculated value, **not hardcoded**. For example: \n",
    "```\n",
    "print(f'The R^2 is {R:.4f}')\n",
    "```\n",
    "- Your plots should include clear labels for the $x$ and $y$ axes as well as a descriptive title (\"MSE plot\" is not a descriptive title; \"95 % confidence interval of coefficients of polynomial degree 5\" is).\n",
    "\n",
    "- **Ensure you make appropraite plots for all the questions it is applicable to, regardless of it being explicitly asked for.**\n",
    "\n",
    "<hr style=\"height:2pt\">"
   ]
  },
  {
   "cell_type": "markdown",
   "metadata": {},
   "source": [
    "### Names of the people who worked on this homework together\n",
    "#### /name here/"
   ]
  },
  {
   "cell_type": "markdown",
   "metadata": {},
   "source": [
    "<a id=\"contents\"></a>\n",
    "\n",
    "## Notebook Contents\n",
    "\n",
    "- [**PART 1 [50 pts]: Model interpretation and predictive intervals in NN**](#part1)\n",
    "  - [Overview and Data Description](#part1intro)\n",
    "  - [Questions](#part1questions)\n",
    "  - [Solutions](#part1solutions)\n",
    "\n",
    "\n",
    "- [**PART 2 [50 pts]: Kannada MNIST Kaggle competition**](#part2)\n",
    "  - [Problem Statement](#part2intro)\n",
    "  - [The Kannada MNIST Dataset](#part2about)\n",
    "  - [Downloading the Data Files](#part2data)\n",
    "  - [Questions](#part2questions)\n",
    "  - [Solutions](#part2solutions)\n"
   ]
  },
  {
   "cell_type": "markdown",
   "metadata": {},
   "source": [
    "---"
   ]
  },
  {
   "cell_type": "markdown",
   "metadata": {},
   "source": [
    "<div class=\"alert alert-block alert-danger\" style=\"color:black;background-color:#E7F4FA\">\n",
    "<h1> PART 1 [50 pts]: Model interpretation and predictive intervals in NN </h1> \n",
    "\n",
    "<br />\n",
    "\n",
    "\n",
    "<a id=\"part1intro\"></a>\n",
    "\n",
    "<b> Overview and Data Description </b>\n",
    "<br /><br />\n",
    "[Return to contents](#contents)\n",
    "<br />\n",
    "In this problem, you will be building and interpreting models to predict whether a flight was delayed for its arrival based on features that could be measured as the flight takes off.  \n",
    "We will also estimate the predictive intervals of the model using bootstrapping. We will utilize those predictive intervals to build a new kind of model: a model that refrains from making a prediction when it is not confident.  \n",
    "\n",
    "\n",
    "The included variables are:\n",
    "<br /><br />\n",
    "**ARRIVAL_DELAY**: the difference between scheduled arrival and actual arrival, in minutes (positive is late, negative is early).\n",
    "<br /><br />\n",
    "**DISTANCE**: the distance between arrival and departure airports, in miles.\n",
    "<br /><br />\n",
    "**SCHEDULED_TIME**: the flight's scheduled travel time.\n",
    "<br /><br />\n",
    "**MONTH**: the month the flight took off, 1 = January, 2 = February, etc.\n",
    "<br /><br />\n",
    "**SCHED_DEP_HOUR**: the scheduled departure time (the hour of the day).\n",
    "<br /><br />\n",
    "**SCHED_ARR_HOUR**: the scheduled arrival time (the hour of the day).\n",
    "<br /><br />\n",
    "**FLIGHT_COUNT**: the number of flights flying out of that airport before noon on a typical day.\n",
    "<br /><br />\n",
    "**DAY_OF_WEEK**: the day of the week, 1 = Monday, 2 = Tuesday, etc.\n",
    "<br /><br />\n",
    "**ORIGIN_AIRPORT**: the airport the flight took off from.\n",
    "<br /><br />\n",
    "**DESTINATION_AIRPORT**: the airport the flight was scheduled to land at.\n",
    "<br /><br />\n",
    "For the airport codes, see: https://www.bts.gov/topics/airlines-and-airports/world-airport-codes\n",
    "\n",
    "To sucessfully complete this part, you will proceed by fitting a NN model, evaluating its accuracy, interpreting the predictors' importance, and finally evaluating the predictive intervals.\n",
    "<br /><br />\n",
    "**NOTE:** The observations were sampled so that roughly half of the observations were delayed and half of the observations were not delayed.\n",
    "\n",
    "</div> "
   ]
  },
  {
   "cell_type": "markdown",
   "metadata": {},
   "source": [
    "<div class=\"alert alert-block alert-danger\" style=\"color:black;background-color:#E7F4FA\">\n",
    "\n",
    "<h2>PART 1: Questions</h2> \n",
    "<br /><br />\n",
    "    \n",
    "[Return to contents](#contents)\n",
    "\n",
    "<br /><br />\n",
    "**1.1.1 [5 points]**  Read in the dataset `flights.csv`. Create a variable `DELAY_OR_NOT` that denotes whether `ARRIVAL_DELAY` is greater than or equal to 15 minutes (the FAA and BTS define a flight as delayed only if it arrives 15 minutes late or more). This is going to be the response variable for the rest of this question. \n",
    "<br /><br />\n",
    "**1.1.2 [5 points]** Preprocess the data: one-hot-encode the non-numeric categorical variables, deal with missing values if there are any, scale your data, and split the data into training and test sets (use an 80/20 split with `random_state=111`). Print the resulting shapes of your $X$ and $y$ dataframes for both your train and your test sets.\n",
    "<br /><br />\n",
    "**1.2 [5 points]** Fit an artificial neural network model using all predictors (name this model `NN_model`).  Use a dense feed-forward network with two hidden layers with 15 nodes in each hidden layer. For this network, use appropriate activation functions for each layer, select an appropriate loss function and optimizer, specify a validation split of 0.2, train for an appropriate number of epochs based on the results of your training and validation accuracy plot, and feel free to use the default batch size while training. Plot the training accuracy and validation accuracy as a function of epochs from your `NN_model` training history. Evaluate the `NN_model` model on both train and test, and print out the resulting train and test accuracies.\n",
    "<br /><br />\n",
    "**1.3 [10 points]** To begin our interpretation of the resulting `NN_model`, we will first use a \"proxy model\" that we know how to interpret and train it on our `NN_model` training predictions.\n",
    "\n",
    "<br /><br />\n",
    "- **1.3.1** For this we need to modify our training set. First, generate a set of `NN_model` class predictions for the training set. These training predictions will be used to form a revised training dataset for our proxy model: (a) use all of the same $X$ values used by `NN_model` for our $X$ train and (b) replace the actual response values $y$ with the predicted $\\hat{y}$ values generated by the fitted `NN_model`.\n",
    "\n",
    "<br /><br />\n",
    "- **1.3.2** Next, fit a logistic regression model using your revised training dataset from 1.3.1 (name this model `logreg`). Use ridge-like regularization. Print the `logreg` test accuracy to confirm that it is similar to what we saw for our `NN_model` test accuracy in 1.2. You may need to adjust `C` in order to achieve a similar accuracy.\n",
    "\n",
    "<br /><br />\n",
    "- **1.3.3** Now use sklearn's `permutation_importance` class (already included in this notebook's imports) to compute the feature importance using the `logreg` model.\n",
    "<br />\n",
    "  - Read the official documentation for `permutation_importance` [here](https://scikit-learn.org/stable/modules/permutation_importance.html#:~:text=The%20permutation%20feature%20importance%20is,model%20depends%20on%20the%20feature.) as well as [here](https://scikit-learn.org/stable/modules/generated/sklearn.inspection.permutation_importance.html#sklearn.inspection.permutation_importance) to learn how it works.\n",
    "<br />\n",
    "  - You can use the default number of `n_repeats` and your estimator's default `scorer`. To speed up the time it takes to run your permutations, you can try setting `n_jobs=-1` to take full advantage of all of your available processor cores.\n",
    "<br />\n",
    "  - Measure the **relative** variable importance (i.e. as a proportion of the variable importance of the most important variable identified by `permutation_importance`) and generate a barplot illustrating the relative variable importances for the top-10 most important predictors identified using `permutation_importance`.\n",
    "<br /><br />\n",
    "\n",
    "**1.4 [10 points]** Another way to interpret the  `NN_model` is by examining the response as a function of any of the predictors. Particularly, we will select from features often found most significant from the analysis above. **For all 1.4 plots below**, for ease of interpretation, **please be certain to** display all predictors on their original scales. \n",
    "<br /><br />\n",
    "\n",
    "   - **1.4.1** Set all predictors to their means/modes except for `SCHED_DEP_HOUR`. Predict the probability of delay and plot the predicted probabilities of delay vs. `SCHED_DEP_HOUR` on the data from the **training set**. Interpret what you see in 2-4 sentences.\n",
    "<br /><br />\n",
    " \n",
    "   - **1.4.2** Set all predictors to their means/modes except for `SCHED_DEP_HOUR` and `FLIGHT_COUNT`. Predict the probability of delay and plot the predicted probabilities of delay vs. `SCHED_DEP_HOUR` and `FLIGHT_COUNT` from the training set (see the question 1.4 \"HINT\" below).\n",
    "\n",
    "<br /><br />\n",
    "   - **1.4.3**   Set all predictors to their means/modes except for except for `SCHED_DEP_HOUR` and `SCHED_ARR_HOUR`. Predict the probability of delay and plot the predicted probabilities of delay vs. `SCHED_DEP_HOUR` and `SCHED_ARR_HOUR` from the training set.\n",
    "\n",
    "<br /><br />\n",
    "   - **1.4.4** Set all predictors to their means/modes except for except for `SCHED_DEP_HOUR` and `DISTANCE`. Predict the probability of delay and plot the predicted probabilities of delay vs. `SCHED_DEP_HOUR` and `DISTANCE` from the training set. \n",
    "<br /><br />\n",
    "\n",
    "  - **1.4.5** In 5-10 sentences, interpret what you have seen in 1.4.2, 1.4.3, and 1.4.4.\n",
    "<br /><br />\n",
    "**HINT:** For 1.4.2, 1.4.3, and 1.4.4, when you include `SCHED_DEP_HOUR` on one axis and your second predictor on the other axis, you can color your datapoints based on their corresponding predicted probabilities by using  the `c` and `cmap` arguments in `plt.scatter`. You can also add a labeled colorbar to your plot to make clear what those colors mean. Please refer to the matplotlib documentation for examples.\n",
    "<br /><br />\n",
    "    \n",
    "**1.5 [5 points]**\n",
    "    \n",
    "<br /><br />\n",
    "In this part, we will attempt to do model inference. Neural Networks have too many parameters, and therefore inference on all the parameters is intractable and meaningless. \n",
    "<br /><br />\n",
    "Using the same network architecture as `NN_model` (layers, nodes, activations, etc.) and your scaled data from that model, create multiple training sets using bootstrapping and fit a separate neural network model to each bootstrapped set of data (a minimum of at least 50 bootstraps should be used). Predict the output on the test data for each model. Randomly select 8 test observations and on 8 subplots, plot the distribution of predicted probabilities (i.e. $n$ bootstrapped probabilites) with the 95% CI bounds clearly marked and reported in each subplot and the actual class of each observation included in each subplot's title for easy reference.\n",
    "    <br /><br />\n",
    "Interpret what you see in 3-5 sentences.\n",
    "<br /><br />\n",
    "    \n",
    "**NOTE:** The code for this problem can take an extremely long time to execute. Please feel free to use the provided `progressbar` function below to visually track the progress of your bootstraps.\n",
    "    \n",
    "<br /><br />\n",
    "    \n",
    "**1.6 [10 points]**\n",
    "    \n",
    "<br /><br />\n",
    "Using the probability distribution of the predictions obtained from the bootstrapped samples above, we can evaluate how \"significant\" our bagged (i.e. bootstrap-aggregated) prediction will be for each test observation.\n",
    "<br /><br />\n",
    "To accomplish this, you will first calculate the ratio of bootstrapped probabilities that cross the threshold value of $\\hat{p}=0.5$. Let's call this ratio the **Posterior Prediction Ratio (PPR)**. When a bagged prediction's $PPR=0$, all predictions are compatible (i.e. all bootstrapped probabilities for that test observation are on the same side of $\\hat{p}=0.5$). Likewise, when the $PPR=0.5$, half of the bootstrapped predictions for that test observation are $\\hat{y}=0$, and the other half are $\\hat{y}=1$. After calculating your $PPR$ values for all test observations, you should have $n=2000$ $PPR$ values (i.e. one for each test observation).\n",
    "<br /><br />\n",
    "Next, to get more accurate predictions, we can create an **abstain** model that will abstain from making a prediction for a particular observation if some defined threshold for significance (i.e. maximum $PPR$ value) is not met. (If you'd like to learn more about abstain models, you can read more [here](https://openreview.net/forum?id=rJxF73R9tX).)\n",
    "<br /><br />\n",
    "Let's explore how your resulting test accuracies might change by using your bootstrapped prediction results from question 1.5 for an **abstain bagging model** (i.e. a bootstrap aggregated model where some test observations are simply not predicted based on a given $PPR$ threshold). You can make your abstain model *stricter* by using smaller $PPR$ threshold values.\n",
    "<br /><br />\n",
    "- Print the test accuracy for your **bagging model** predictions from question 1.5 using predictions for all 2,000 of our test observations. \n",
    "<br /><br />\n",
    "- Plot the test accuracies for an **abstain bagging model** using your predictions from question 1.5 as a function of increasing $PPR$.\n",
    "<br /><br />\n",
    "- Also, plot the proportion of test observations not abstained (i.e. the proportion of those predicted) for your **abstain bagging model** as a function of increasing $PPR$.\n",
    "<br /><br />\n",
    "- Interpret what you see in 3-5 sentences.\n",
    "<br /><br />\n",
    "    \n",
    "**NOTE**: You should observe that as $PPR$ decreases (more confident predictions), you must also compromise on the number of points that your abstain model predicts confidently. \n",
    "\n",
    "</div>"
   ]
  },
  {
   "cell_type": "markdown",
   "metadata": {},
   "source": [
    "<a id=\"part1solutions\"></a>\n",
    "\n",
    "## PART 1: Solutions\n",
    "\n",
    "[Return to contents](#contents)\n"
   ]
  },
  {
   "cell_type": "markdown",
   "metadata": {},
   "source": [
    "<div class='exercise-r'>  \n",
    "\n",
    "**1.1**\n",
    "\n",
    "</div>"
   ]
  },
  {
   "cell_type": "code",
   "execution_count": 3,
   "metadata": {},
   "outputs": [],
   "source": [
    "# Read in the dataset flights.csv. Create a variable DELAY_OR_NOT that denotes whether ARRIVAL_DELAY is greater than or equal to 15 minutes \n",
    "# (the FAA and BTS define a flight as delayed only if it arrives 15 minutes late or more). This is going to be the response variable for the \n",
    "# rest of this question.\n",
    "dataset = pd.read_csv('flights.csv')\n",
    "DELAY_OR_NOT = dataset['ARRIVAL_DELAY']\n",
    "DELAY_OR_NOT = [1 if i >=15 else 0 for i in DELAY_OR_NOT]"
   ]
  },
  {
   "cell_type": "markdown",
   "metadata": {},
   "source": [
    "<div class='exercise-r'>  \n",
    "\n",
    "**1.1.2**\n",
    "    \n",
    "</div>"
   ]
  },
  {
   "cell_type": "code",
   "execution_count": 23,
   "metadata": {},
   "outputs": [
    {
     "name": "stdout",
     "output_type": "stream",
     "text": [
      "(8000, 574) (2000, 574) (8000,) (2000,)\n"
     ]
    }
   ],
   "source": [
    "# Preprocess the data: one-hot-encode the non-numeric categorical variables, deal with missing values if there are any, \n",
    "# scale your data, and split the data into training and test sets (use an 80/20 split with random_state=111). \n",
    "# Print the resulting shapes of your  𝑋  and  𝑦  dataframes for both your train and your test sets.\n",
    "\n",
    "# Change the Origin Airport and Destination Airport into One-hot code, the unmatched number will be considered as one type to make sure the integrity of data\n",
    "ORIGIN_AIRPORT=dataset['ORIGIN_AIRPORT']\n",
    "ORIGIN_AIRPORT= [ 'Unknown' if x.isdigit() else x for x in ORIGIN_AIRPORT ]\n",
    "ORIGIN_AIRPORT = pd.get_dummies(ORIGIN_AIRPORT).values\n",
    "DESTINATION_AIRPORT=dataset['DESTINATION_AIRPORT']\n",
    "DESTINATION_AIRPORT= [ 'Unknown' if x.isdigit() else x for x in DESTINATION_AIRPORT ]\n",
    "DESTINATION_AIRPORT = pd.get_dummies(DESTINATION_AIRPORT).values\n",
    "\n",
    "# Change Date of Week and Month into One-hot code as well\n",
    "DAY_OF_WEEK=dataset['DAY_OF_WEEK']\n",
    "DAY_OF_WEEK = pd.get_dummies(DAY_OF_WEEK).values\n",
    "MONTH = dataset['MONTH']\n",
    "MONTH=pd.get_dummies(MONTH).values\n",
    "\n",
    "# Using StandardScaler to do normalization with column DISTANCE, FLIGHT_COUNT, and SCHEDULED_TIME\n",
    "scalar=StandardScaler()\n",
    "DISTANCE=dataset['DISTANCE'].values.reshape(-1,1)\n",
    "SCHEDULED_TIME=dataset['SCHEDULED_TIME'].values.reshape(-1,1)\n",
    "FLIGHT_COUNT=dataset['FLIGHT_COUNT'].values.reshape(-1,1)\n",
    "scalar.fit(DISTANCE)\n",
    "DISTANCE=scalar.transform(DISTANCE)\n",
    "scalar.fit(SCHEDULED_TIME)\n",
    "SCHEDULED_TIME=scalar.transform(SCHEDULED_TIME)\n",
    "scalar.fit(FLIGHT_COUNT)\n",
    "FLIGHT_COUNT=scalar.transform(FLIGHT_COUNT)\n",
    "\n",
    "# Also extract SCHED_DEP_HOUR and SCHED_ARR_HOUR\n",
    "SCHED_DEP_HOUR= dataset['SCHED_DEP_HOUR'].values.reshape(-1,1)\n",
    "SCHED_ARR_HOUR =dataset['SCHED_ARR_HOUR'].values.reshape(-1,1)\n",
    "\n",
    "# Assemble all predictors together as X, and DELAY_OR_NOT values as Y. Splitting train and test daatsets according to the requirement.\n",
    "X=np.hstack([DISTANCE,SCHEDULED_TIME,MONTH,SCHED_DEP_HOUR,SCHED_ARR_HOUR,DAY_OF_WEEK,ORIGIN_AIRPORT,DESTINATION_AIRPORT])\n",
    "y=np.array(DELAY_OR_NOT)\n",
    "X_train, X_test, y_train, y_test = train_test_split(X, y, test_size=0.2, random_state=111)\n",
    "print(X_train.shape,X_test.shape,y_train.shape,y_test.shape)"
   ]
  },
  {
   "cell_type": "markdown",
   "metadata": {},
   "source": [
    "<div class='exercise-r'>  \n",
    "    \n",
    "**1.2**\n",
    "    \n",
    "</div>"
   ]
  },
  {
   "cell_type": "code",
   "execution_count": 51,
   "metadata": {},
   "outputs": [],
   "source": [
    "# build your NN \n",
    "# your code here\n",
    "model = tf.keras.Sequential()\n",
    "model.add(tf.keras.layers.Dense(units=200,activation='relu'))\n",
    "model.add(tf.keras.layers.Dense(units=200,activation='relu'))\n",
    "model.add(tf.keras.layers.Dense(units=200,activation='relu'))\n",
    "model.add(tf.keras.layers.Dense(units=1,activation='sigmoid'))\n",
    "model.compile(optimizer='adam',loss=tf.keras.losses.binary_crossentropy,metrics=['accuracy'])\n",
    "model.build(input_shape=((64,574)))"
   ]
  },
  {
   "cell_type": "code",
   "execution_count": 52,
   "metadata": {},
   "outputs": [
    {
     "name": "stdout",
     "output_type": "stream",
     "text": [
      "Epoch 1/50\n",
      "100/100 [==============================] - 1s 5ms/step - loss: 0.6248 - accuracy: 0.6434 - val_loss: 0.5499 - val_accuracy: 0.7387\n",
      "Epoch 2/50\n",
      "100/100 [==============================] - 0s 4ms/step - loss: 0.5371 - accuracy: 0.7369 - val_loss: 0.5284 - val_accuracy: 0.7481\n",
      "Epoch 3/50\n",
      "100/100 [==============================] - 0s 4ms/step - loss: 0.5126 - accuracy: 0.7523 - val_loss: 0.5233 - val_accuracy: 0.7506\n",
      "Epoch 4/50\n",
      "100/100 [==============================] - 0s 3ms/step - loss: 0.4919 - accuracy: 0.7691 - val_loss: 0.5484 - val_accuracy: 0.7250\n",
      "Epoch 5/50\n",
      "100/100 [==============================] - 0s 3ms/step - loss: 0.4782 - accuracy: 0.7769 - val_loss: 0.5346 - val_accuracy: 0.7475\n",
      "Epoch 6/50\n",
      "100/100 [==============================] - 0s 4ms/step - loss: 0.4683 - accuracy: 0.7761 - val_loss: 0.5252 - val_accuracy: 0.7531\n",
      "Epoch 7/50\n",
      "100/100 [==============================] - 0s 4ms/step - loss: 0.4635 - accuracy: 0.7761 - val_loss: 0.5392 - val_accuracy: 0.7344\n",
      "Epoch 8/50\n",
      "100/100 [==============================] - 0s 3ms/step - loss: 0.4360 - accuracy: 0.7906 - val_loss: 0.5611 - val_accuracy: 0.7406\n",
      "Epoch 9/50\n",
      "100/100 [==============================] - 0s 3ms/step - loss: 0.4266 - accuracy: 0.7928 - val_loss: 0.5586 - val_accuracy: 0.7150\n",
      "Epoch 10/50\n",
      "100/100 [==============================] - 0s 3ms/step - loss: 0.4125 - accuracy: 0.8000 - val_loss: 0.5756 - val_accuracy: 0.7350\n",
      "Epoch 11/50\n",
      "100/100 [==============================] - 0s 4ms/step - loss: 0.3953 - accuracy: 0.8069 - val_loss: 0.6586 - val_accuracy: 0.7331\n",
      "Epoch 12/50\n",
      "100/100 [==============================] - 0s 4ms/step - loss: 0.3784 - accuracy: 0.8136 - val_loss: 0.6767 - val_accuracy: 0.7437\n",
      "Epoch 13/50\n",
      "100/100 [==============================] - 0s 4ms/step - loss: 0.3512 - accuracy: 0.8356 - val_loss: 0.7513 - val_accuracy: 0.7350\n",
      "Epoch 14/50\n",
      "100/100 [==============================] - 0s 4ms/step - loss: 0.3202 - accuracy: 0.8486 - val_loss: 0.7437 - val_accuracy: 0.7013\n",
      "Epoch 15/50\n",
      "100/100 [==============================] - 0s 3ms/step - loss: 0.3121 - accuracy: 0.8569 - val_loss: 0.7141 - val_accuracy: 0.7156\n",
      "Epoch 16/50\n",
      "100/100 [==============================] - 0s 4ms/step - loss: 0.2971 - accuracy: 0.8617 - val_loss: 0.7458 - val_accuracy: 0.7300\n",
      "Epoch 17/50\n",
      "100/100 [==============================] - 0s 4ms/step - loss: 0.2760 - accuracy: 0.8783 - val_loss: 0.7977 - val_accuracy: 0.7069\n",
      "Epoch 18/50\n",
      "100/100 [==============================] - 0s 4ms/step - loss: 0.2375 - accuracy: 0.8984 - val_loss: 0.9890 - val_accuracy: 0.6988\n",
      "Epoch 19/50\n",
      "100/100 [==============================] - 0s 4ms/step - loss: 0.2103 - accuracy: 0.9097 - val_loss: 0.9502 - val_accuracy: 0.7094\n",
      "Epoch 20/50\n",
      "100/100 [==============================] - 0s 4ms/step - loss: 0.1904 - accuracy: 0.9203 - val_loss: 1.1664 - val_accuracy: 0.7231\n",
      "Epoch 21/50\n",
      "100/100 [==============================] - 0s 4ms/step - loss: 0.1692 - accuracy: 0.9292 - val_loss: 1.2339 - val_accuracy: 0.7181\n",
      "Epoch 22/50\n",
      "100/100 [==============================] - 0s 4ms/step - loss: 0.1673 - accuracy: 0.9294 - val_loss: 1.2913 - val_accuracy: 0.7006\n",
      "Epoch 23/50\n",
      "100/100 [==============================] - 0s 4ms/step - loss: 0.1524 - accuracy: 0.9375 - val_loss: 1.4104 - val_accuracy: 0.7069\n",
      "Epoch 24/50\n",
      "100/100 [==============================] - 0s 4ms/step - loss: 0.1361 - accuracy: 0.9397 - val_loss: 1.3867 - val_accuracy: 0.6956\n",
      "Epoch 25/50\n",
      "100/100 [==============================] - 0s 4ms/step - loss: 0.1415 - accuracy: 0.9391 - val_loss: 1.5350 - val_accuracy: 0.7044\n",
      "Epoch 26/50\n",
      "100/100 [==============================] - 0s 4ms/step - loss: 0.1206 - accuracy: 0.9508 - val_loss: 1.4256 - val_accuracy: 0.7019\n",
      "Epoch 27/50\n",
      "100/100 [==============================] - 0s 4ms/step - loss: 0.1139 - accuracy: 0.9530 - val_loss: 1.6950 - val_accuracy: 0.7175\n",
      "Epoch 28/50\n",
      "100/100 [==============================] - 0s 4ms/step - loss: 0.1135 - accuracy: 0.9516 - val_loss: 1.6088 - val_accuracy: 0.6825\n",
      "Epoch 29/50\n",
      "100/100 [==============================] - 0s 4ms/step - loss: 0.0882 - accuracy: 0.9652 - val_loss: 1.8550 - val_accuracy: 0.7056\n",
      "Epoch 30/50\n",
      "100/100 [==============================] - 0s 4ms/step - loss: 0.1058 - accuracy: 0.9544 - val_loss: 1.6893 - val_accuracy: 0.6950\n",
      "Epoch 31/50\n",
      "100/100 [==============================] - 0s 4ms/step - loss: 0.0842 - accuracy: 0.9647 - val_loss: 1.9268 - val_accuracy: 0.7063\n",
      "Epoch 32/50\n",
      "100/100 [==============================] - 0s 4ms/step - loss: 0.0868 - accuracy: 0.9631 - val_loss: 1.8193 - val_accuracy: 0.7056\n",
      "Epoch 33/50\n",
      "100/100 [==============================] - 0s 4ms/step - loss: 0.0773 - accuracy: 0.9677 - val_loss: 2.1523 - val_accuracy: 0.6831\n",
      "Epoch 34/50\n",
      "100/100 [==============================] - 0s 4ms/step - loss: 0.0835 - accuracy: 0.9642 - val_loss: 2.0068 - val_accuracy: 0.7131\n",
      "Epoch 35/50\n",
      "100/100 [==============================] - 0s 4ms/step - loss: 0.0675 - accuracy: 0.9728 - val_loss: 2.1514 - val_accuracy: 0.7100\n",
      "Epoch 36/50\n",
      "100/100 [==============================] - 0s 4ms/step - loss: 0.0595 - accuracy: 0.9755 - val_loss: 2.2688 - val_accuracy: 0.7075\n",
      "Epoch 37/50\n",
      "100/100 [==============================] - 0s 4ms/step - loss: 0.0627 - accuracy: 0.9753 - val_loss: 2.3392 - val_accuracy: 0.6862\n",
      "Epoch 38/50\n",
      "100/100 [==============================] - 0s 4ms/step - loss: 0.0914 - accuracy: 0.9628 - val_loss: 2.1416 - val_accuracy: 0.6981\n",
      "Epoch 39/50\n",
      "100/100 [==============================] - 0s 4ms/step - loss: 0.0620 - accuracy: 0.9745 - val_loss: 2.3285 - val_accuracy: 0.6931\n",
      "Epoch 40/50\n",
      "100/100 [==============================] - 0s 4ms/step - loss: 0.0705 - accuracy: 0.9716 - val_loss: 2.1880 - val_accuracy: 0.6919\n",
      "Epoch 41/50\n",
      "100/100 [==============================] - 0s 4ms/step - loss: 0.0541 - accuracy: 0.9759 - val_loss: 2.2992 - val_accuracy: 0.6888\n",
      "Epoch 42/50\n",
      "100/100 [==============================] - 0s 4ms/step - loss: 0.0626 - accuracy: 0.9737 - val_loss: 2.3463 - val_accuracy: 0.6963\n",
      "Epoch 43/50\n",
      "100/100 [==============================] - 0s 4ms/step - loss: 0.0515 - accuracy: 0.9778 - val_loss: 2.5710 - val_accuracy: 0.7038\n",
      "Epoch 44/50\n",
      "100/100 [==============================] - 0s 4ms/step - loss: 0.0544 - accuracy: 0.9769 - val_loss: 2.4002 - val_accuracy: 0.7100\n",
      "Epoch 45/50\n",
      "100/100 [==============================] - 0s 4ms/step - loss: 0.0517 - accuracy: 0.9762 - val_loss: 2.5135 - val_accuracy: 0.6994\n",
      "Epoch 46/50\n",
      "100/100 [==============================] - 0s 4ms/step - loss: 0.0411 - accuracy: 0.9814 - val_loss: 2.6106 - val_accuracy: 0.6938\n",
      "Epoch 47/50\n",
      "100/100 [==============================] - 0s 4ms/step - loss: 0.0546 - accuracy: 0.9767 - val_loss: 2.4972 - val_accuracy: 0.6794\n",
      "Epoch 48/50\n",
      "100/100 [==============================] - 0s 4ms/step - loss: 0.0757 - accuracy: 0.9688 - val_loss: 2.4867 - val_accuracy: 0.6981\n",
      "Epoch 49/50\n",
      "100/100 [==============================] - 0s 4ms/step - loss: 0.0766 - accuracy: 0.9655 - val_loss: 2.1311 - val_accuracy: 0.7069\n",
      "Epoch 50/50\n",
      "100/100 [==============================] - 0s 4ms/step - loss: 0.0484 - accuracy: 0.9791 - val_loss: 2.5089 - val_accuracy: 0.7013\n"
     ]
    }
   ],
   "source": [
    "# compile it and run it\n",
    "# your code here \n",
    "history = model.fit(X_train,y_train,verbose=1,batch_size=64,validation_split=0.2,epochs=50)"
   ]
  },
  {
   "cell_type": "code",
   "execution_count": 53,
   "metadata": {},
   "outputs": [
    {
     "data": {
      "text/plain": [
       "Text(0.5, 0.98, 'Model Training')"
      ]
     },
     "execution_count": 53,
     "metadata": {},
     "output_type": "execute_result"
    },
    {
     "data": {
      "image/png": "[encoded data removed]",
      "text/plain": [
       "<Figure size 1152x288 with 2 Axes>"
      ]
     },
     "metadata": {
      "needs_background": "light"
     },
     "output_type": "display_data"
    }
   ],
   "source": [
    "# plot train and val acc as  a function of epochs\n",
    "# your code here\n",
    "fig, ax = plt.subplots(1,2,figsize = (16,4))\n",
    "ax[0].plot(history.history['loss'],color='#EFAEA4',label = 'Training Loss')\n",
    "ax[0].plot(history.history['val_loss'],color='#B2D7D0',label = 'Validation Loss')\n",
    "ax[1].plot(history.history['accuracy'],color='#EFAEA4',label = 'Training Accuracy')\n",
    "ax[1].plot(history.history['val_accuracy'],color='#B2D7D0',label = 'Validation Accuracy')\n",
    "ax[0].legend()\n",
    "ax[1].legend()\n",
    "ax[0].set_xlabel('Epochs')\n",
    "ax[1].set_xlabel('Epochs');\n",
    "ax[0].set_ylabel('Loss')\n",
    "ax[1].set_ylabel('Accuracy %');\n",
    "fig.suptitle('Model Training', fontsize = 24)"
   ]
  },
  {
   "cell_type": "code",
   "execution_count": 54,
   "metadata": {},
   "outputs": [
    {
     "name": "stdout",
     "output_type": "stream",
     "text": [
      "NN_model_train_auc: 0.959482352958826\n"
     ]
    }
   ],
   "source": [
    "# primer to print: \n",
    "# print(\"NN_model_train_auc:\", roc_auc_score(y_train, y_hat))\n",
    "# your code here \n",
    "y_hat=model.predict(X_train)\n",
    "print(\"NN_model_train_auc:\", roc_auc_score(y_train,y_hat ))"
   ]
  },
  {
   "cell_type": "code",
   "execution_count": 55,
   "metadata": {},
   "outputs": [
    {
     "name": "stdout",
     "output_type": "stream",
     "text": [
      "NN_model_train_auc: 0.7367198934730216\n"
     ]
    }
   ],
   "source": [
    "# your code here\n",
    "y_hat_test=model.predict(X_test)\n",
    "print(\"NN_model_train_auc:\", roc_auc_score(y_test,y_hat_test ))"
   ]
  },
  {
   "cell_type": "markdown",
   "metadata": {},
   "source": [
    "<div class='exercise-r'>\n",
    "\n",
    "**1.3**\n",
    "\n",
    "</div>"
   ]
  },
  {
   "cell_type": "code",
   "execution_count": 10,
   "metadata": {
    "collapsed": true
   },
   "outputs": [],
   "source": [
    "# Fit the logistic regression model\n",
    "# your code here\n"
   ]
  },
  {
   "cell_type": "markdown",
   "metadata": {},
   "source": [
    "<div class='exercise-r'>\n",
    "\n",
    "**1.4**    \n",
    "\n",
    "**1.4.1**\n",
    "\n",
    "</div>"
   ]
  },
  {
   "cell_type": "code",
   "execution_count": 11,
   "metadata": {
    "collapsed": true
   },
   "outputs": [],
   "source": [
    "# your code here\n"
   ]
  },
  {
   "cell_type": "markdown",
   "metadata": {},
   "source": [
    "**INTERPRETATION:**"
   ]
  },
  {
   "cell_type": "markdown",
   "metadata": {},
   "source": [
    "*Your answer here*"
   ]
  },
  {
   "cell_type": "markdown",
   "metadata": {},
   "source": [
    "<div class='exercise-r'>\n",
    "\n",
    "**1.4.2**\n",
    "</div>"
   ]
  },
  {
   "cell_type": "code",
   "execution_count": 12,
   "metadata": {
    "collapsed": true
   },
   "outputs": [],
   "source": [
    "# your code here\n"
   ]
  },
  {
   "cell_type": "markdown",
   "metadata": {},
   "source": [
    "<div class='exercise-r'>\n",
    "\n",
    "**1.4.3**\n",
    "    \n",
    "</div>"
   ]
  },
  {
   "cell_type": "code",
   "execution_count": 13,
   "metadata": {
    "collapsed": true
   },
   "outputs": [],
   "source": [
    "# your code here\n"
   ]
  },
  {
   "cell_type": "markdown",
   "metadata": {},
   "source": [
    "<div class='exercise-r'>\n",
    "\n",
    "**1.4.4**\n",
    "    \n",
    "</div>"
   ]
  },
  {
   "cell_type": "code",
   "execution_count": 14,
   "metadata": {
    "collapsed": true
   },
   "outputs": [],
   "source": [
    "# your code here\n"
   ]
  },
  {
   "cell_type": "markdown",
   "metadata": {},
   "source": [
    "**INTERPRETATION:**"
   ]
  },
  {
   "cell_type": "markdown",
   "metadata": {},
   "source": [
    "*your answer here*"
   ]
  },
  {
   "cell_type": "markdown",
   "metadata": {},
   "source": [
    "<div class='exercise-r'>\n",
    "\n",
    "**1.5**\n",
    "\n",
    "</div>"
   ]
  },
  {
   "cell_type": "code",
   "execution_count": 15,
   "metadata": {
    "collapsed": true
   },
   "outputs": [],
   "source": [
    "def progressbar(n_step, n_total):\n",
    "    \"\"\"Prints self-updating progress bar to stdout to track for-loop progress\n",
    "    \n",
    "    There are entire 3rd-party libraries dedicated to custom progress-bars.\n",
    "    A simple function like this is often more than enough to get the job done.\n",
    "    \n",
    "    :param n_total: total number of expected for-loop iterations\n",
    "    :type n_total: int\n",
    "    :param n_step: current iteration number, starting at 0\n",
    "    :type n_step: int\n",
    "\n",
    "    .. example::\n",
    "    \n",
    "        for i in range(n_iterations):\n",
    "            progressbar(i, n_iterations)\n",
    "            \n",
    "    .. source:\n",
    "    \n",
    "        This function is a simplified version of code found here:\n",
    "        https://stackoverflow.com/questions/3160699/python-progress-bar/15860757#15860757\n",
    "    \"\"\"\n",
    "    n_step = n_step + 1\n",
    "    barlen = 50\n",
    "    progress = n_step / n_total\n",
    "    block = int(round(barlen * progress))\n",
    "    status = \"\"\n",
    "    if n_step == n_total:\n",
    "        status = \"Done...\\r\\n\\n\"\n",
    "    text = \"\\r [{0}] {1}/{2} {3}\".format(\n",
    "        \"=\" * block + \"-\" * (barlen - block),\n",
    "        n_step,\n",
    "        n_total,\n",
    "        status,\n",
    "    )\n",
    "    sys.stdout.write(text)\n",
    "    sys.stdout.flush()"
   ]
  },
  {
   "cell_type": "code",
   "execution_count": 16,
   "metadata": {},
   "outputs": [
    {
     "name": "stdout",
     "output_type": "stream",
     "text": [
      "CPU times: user 2 µs, sys: 1e+03 ns, total: 3 µs\n",
      "Wall time: 5.01 µs\n"
     ]
    }
   ],
   "source": [
    "%%time\n",
    "# Bootstrap and train your networks and get predictions on fixed X test\n",
    "# your code here\n"
   ]
  },
  {
   "cell_type": "code",
   "execution_count": 17,
   "metadata": {
    "collapsed": true
   },
   "outputs": [],
   "source": [
    "# generate your plot\n",
    "# your code here\n"
   ]
  },
  {
   "cell_type": "markdown",
   "metadata": {},
   "source": [
    "**INTERPRETATION:**"
   ]
  },
  {
   "cell_type": "markdown",
   "metadata": {},
   "source": [
    "*your answer here*"
   ]
  },
  {
   "cell_type": "markdown",
   "metadata": {},
   "source": [
    "<div class='exercise-r'>\n",
    "\n",
    "**1.6**\n",
    "\n",
    "</div>"
   ]
  },
  {
   "cell_type": "code",
   "execution_count": 18,
   "metadata": {
    "collapsed": true
   },
   "outputs": [],
   "source": [
    "# your code here\n"
   ]
  },
  {
   "cell_type": "markdown",
   "metadata": {},
   "source": [
    "**INTERPRETATION:**"
   ]
  },
  {
   "cell_type": "markdown",
   "metadata": {},
   "source": [
    "*your answer here*"
   ]
  },
  {
   "cell_type": "markdown",
   "metadata": {},
   "source": [
    "<div class=\"alert alert-block alert-danger\" style=\"color:black;background-color:#E7F4FA\">\n",
    "\n",
    "\n",
    "<h1>PART 2 [50 pts]: Kannada MNIST</h1>\n",
    "<br /><br />\n",
    "[Return to contents](#contents)\n",
    "<br /><br />\n",
    "\n",
    "<a id=\"part2intro\"></a>\n",
    "<h2> Problem Statement </h2>\n",
    "<br /><br />\n",
    "[Return to contents](#contents)\n",
    "<br /><br />\n",
    "\n",
    "ANNs can be prone to overfitting, where they learn specific patterns present in the training data, but the patterns do not generalize to new data.\n",
    "<br /><br />\n",
    "There are several methods used to improve ANN generalization. \n",
    "<br /><br />\n",
    "One approach is to use an architecture just barely wide or deep enough to fit the data. The idea here is that smaller networks are less expressive and thus less able to overfit the data.\n",
    "<br /><br />\n",
    "However, it is difficult to know a priori the correct size of the ANN, and it is computationally costly to hunt for the correct size. Given this, other methodologies are used to prevent overfitting and improve ANNs' generalizability. These methodologies, like other techniques that combat overfitting, fall under the umbrella term of \"regularization\".\n",
    "<br /><br />\n",
    "In this problem, you are asked to regularize a network of a given architecture.\n",
    "\n",
    "<a id=\"part2about\"></a>\n",
    "<br /><br />\n",
    "<h3> The Kannada MNIST Dataset </h3>\n",
    "<br /><br />\n",
    "[Return to contents](#contents)\n",
    "<br /><br />\n",
    "\n",
    "![](https://www.googleapis.com/download/storage/v1/b/kaggle-user-content/o/inbox%2F3630446%2F1e01bcc28b5ccb7ad38a4ffefb13cde0%2Fwondu.png?generation=1603204077179447&alt=media)\n",
    "\n",
    "<br /><br />\n",
    "For this problem, we will be working with a modified version of [Kannada MNIST dataset](https://arxiv.org/pdf/1908.01242.pdf) , which is a large database of handwritten digits in the indigenous language *Kannada*.\n",
    "<br /><br />\n",
    "This dataset consists of 60,000 28x28 grayscale images of the ten digits, along with a test set of 10,000 images. \n",
    "<br /><br />\n",
    "For this homework, we will simplify the problem by only use the digits labeled `0` and `1` owing to the similarity of the two symbols, and we want to use a total of 1200 samples for training (this includes the data you will use for validation).\n",
    "<br /><br />\n",
    "To understand the dataset better, we recommend this [article](https://towardsdatascience.com/a-new-handwritten-digits-dataset-in-ml-town-kannada-mnist-69df0f2d1456) by Vinay Prabhu, the curator of the dataset.\n",
    "<br /><br />\n",
    "<a id=\"part2data\"></a>\n",
    "\n",
    "<h4> Downloading the Data Files </h4>\n",
    "<br />\n",
    "[Return to contents](#contents)\n",
    "<br />\n",
    "Please download all files from resources on Ed.\n",
    "<br /><br />\n",
    "Here's a brief description of the available files:\n",
    "<br /><br />\n",
    "- `kmnist_train.csv` is our training dataset and the last column contains our response class. The 784 other columns correspond to the pixel values of the 28x28 dimension image.\n",
    "<br /><br />\n",
    "Class 0 means a sample is the handwritten digit `0` and class 1 means a sample is the handwritten digit `1` in the Kannada language.  \n",
    "<br />\n",
    "- `kmnist_test.csv` has a structure similar to `kmnist_train.csv` but you will use this only for testing.\n",
    "    \n",
    "</div>    "
   ]
  },
  {
   "cell_type": "markdown",
   "metadata": {},
   "source": [
    "<div class=\"alert alert-block alert-danger\" style=\"color:black;background-color:#E7F4FA\">\n",
    "\n",
    "<h2>PART2 Questions</h2>\n",
    "<br /><br />\n",
    "[Return to contents](#contents)\n",
    "\n",
    "<br /><br />\n",
    "**2.1 [5 points]** **Get the data:**\n",
    "\n",
    "- Download data from Ed resources.\n",
    "- We will utilize `kmnist_test.csv` in question 2.3.4 only. \n",
    "- Load the data and use the matplotlib function `imshow` to display a handwritten 0 and a handwritten 1.\n",
    "<br /><br />\n",
    "    \n",
    "**2.2 [15 points]** **Overfit an ANN:** \n",
    "\n",
    "Build a fully-connected network (FCN) with the architecture given below using `tensorflow.keras` and assign it to a variable called `model_overfit`:\n",
    "\n",
    "- Number of hidden layers: 3\n",
    "- Nodes per hidden layer: 100, 100, 100\n",
    "- Activation function: ReLU \n",
    "- Loss function: binary_crossentropy\n",
    "- Output unit: Sigmoid \n",
    "- Optimizer: adam (use the defaults; no other tuning)\n",
    "- Epochs: no more than 2,000\n",
    "- Batch size: 128\n",
    "- Validation size: 0.3\n",
    "\n",
    "![](https://www.googleapis.com/download/storage/v1/b/kaggle-user-content/o/inbox%2F3630446%2F6a491ff8d4ff590dc8ded9a25461cd4b%2FScreenshot%202020-10-20%20at%209.42.36%20PM.png?generation=1603210420701577&alt=media) \n",
    "    \n",
    "This ANN, when trained on the dataset, will overfit to the training set. Plot the training accuracy and validation accuracy (the x-axis should represent the number of epochs, and the y-axis should represent the accuracy). Explain how you can tell the model is overfitting. \n",
    "\n",
    "<a id=\"part2_3\"></a>\n",
    "<br /><br />\n",
    "\n",
    "**2.3 [30 points]** **Regularize overfit network:**\n",
    "\n",
    "Create an ANN that doesn't overfit and report your accuracy on the test set.\n",
    "<br /><br />\n",
    "**DON'TS**\n",
    "\n",
    "**Don't change the architecture**. In other words, keep the number of layers, number of nodes, activation function,  loss function and output unit the same. **No CNNs/RNNs/enhancements.**\n",
    "\n",
    "<br />\n",
    "    \n",
    "**NOTE**: We strongly discourage you to use a different training set than the one provided to you but data augmentation is allowed. \n",
    "\n",
    "<br /><br />\n",
    "    \n",
    "**DOS**\n",
    "\n",
    "You can change the number of epochs (max 2000), batch size, optimizer, and of course, add elements that can help to regularize (e.g., dropout, L2 norm, etc.). You can also do data augmentation. \n",
    "<br /><br />\n",
    "\n",
    "- **2.3.1** Display your model summary and your training and validation accuracy and loss.\n",
    "\n",
    "<br />\n",
    "    \n",
    "- **2.3.2** Print the difference between the training and validation accuracies and the difference between the training and validation losses for the final trained epoch used by your model.\n",
    "\n",
    "<br />\n",
    "    \n",
    "- **2.3.3** Plot the training accuracy and validation accuracy as a function of epochs.\n",
    "<br />\n",
    "\n",
    "- **2.3.4** Once your model is trained, evaluate your model on the test dataset and provide the test accuracy.\n",
    "\n",
    "\n",
    "<br /><br />\n",
    "\n",
    "</div>"
   ]
  },
  {
   "cell_type": "markdown",
   "metadata": {},
   "source": [
    "<a id=\"part2solutions\"></a>\n",
    "\n",
    "## PART 2 Solutions\n",
    "\n",
    "[Return to contents](#contents)\n"
   ]
  },
  {
   "cell_type": "markdown",
   "metadata": {},
   "source": [
    "<div class='exercise-r'>\n",
    "\n",
    "**2.1** \n",
    "    \n",
    "</div>"
   ]
  },
  {
   "cell_type": "code",
   "execution_count": 19,
   "metadata": {
    "collapsed": true
   },
   "outputs": [],
   "source": [
    "# your code here "
   ]
  },
  {
   "cell_type": "markdown",
   "metadata": {},
   "source": [
    "<div class='exercise-r'>\n",
    "\n",
    "**2.2**\n",
    "    \n",
    "</div>"
   ]
  },
  {
   "cell_type": "code",
   "execution_count": 20,
   "metadata": {
    "collapsed": true
   },
   "outputs": [],
   "source": [
    "# your code here"
   ]
  },
  {
   "cell_type": "markdown",
   "metadata": {},
   "source": [
    "**INTERPRETATION:**"
   ]
  },
  {
   "cell_type": "markdown",
   "metadata": {},
   "source": [
    "*your answer here*"
   ]
  },
  {
   "cell_type": "markdown",
   "metadata": {},
   "source": [
    "<div class='exercise-r'>\n",
    "\n",
    "**2.3** \n",
    "\n",
    "**2.3.1**\n",
    "    \n",
    "</div>"
   ]
  },
  {
   "cell_type": "code",
   "execution_count": 21,
   "metadata": {
    "collapsed": true
   },
   "outputs": [],
   "source": [
    "# your code here"
   ]
  },
  {
   "cell_type": "markdown",
   "metadata": {},
   "source": [
    "<div class='exercise-r'>\n",
    "\n",
    "**2.3.2**\n",
    "    \n",
    "</div>"
   ]
  },
  {
   "cell_type": "code",
   "execution_count": 22,
   "metadata": {
    "collapsed": true
   },
   "outputs": [],
   "source": [
    "# your code here"
   ]
  },
  {
   "cell_type": "markdown",
   "metadata": {},
   "source": [
    "<div class='exercise-r'>\n",
    "\n",
    "**2.3.3**\n",
    "    \n",
    "</div>"
   ]
  },
  {
   "cell_type": "code",
   "execution_count": 23,
   "metadata": {
    "collapsed": true
   },
   "outputs": [],
   "source": [
    "# your code here"
   ]
  },
  {
   "cell_type": "markdown",
   "metadata": {},
   "source": [
    "<div class='exercise-r'>\n",
    "\n",
    "**2.3.4**\n",
    "    \n",
    "</div>"
   ]
  },
  {
   "cell_type": "code",
   "execution_count": 24,
   "metadata": {
    "collapsed": true
   },
   "outputs": [],
   "source": [
    "# your code here"
   ]
  }
 ],
 "metadata": {
  "kernelspec": {
   "display_name": "Python 3",
   "language": "python",
   "name": "python3"
  },
  "language_info": {
   "codemirror_mode": {
    "name": "ipython",
    "version": 3
   },
   "file_extension": ".py",
   "mimetype": "text/x-python",
   "name": "python",
   "nbconvert_exporter": "python",
   "pygments_lexer": "ipython3",
   "version": "3.8.10"
  }
 },
 "nbformat": 4,
 "nbformat_minor": 4
}
